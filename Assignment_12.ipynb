{
 "cells": [
  {
   "cell_type": "markdown",
   "id": "3b0108e7-51cd-4ac0-9634-aec05d03c835",
   "metadata": {},
   "source": [
    "### Q.1> Explain why we have to use the Exception class while creating a Custom Exception."
   ]
  },
  {
   "cell_type": "markdown",
   "id": "b2147e79-1f2f-46e1-9eee-9f3576d9ec18",
   "metadata": {},
   "source": [
    "#### ANSWER"
   ]
  },
  {
   "cell_type": "markdown",
   "id": "c69c410d-7163-404c-83e6-3539d591e02e",
   "metadata": {},
   "source": [
    "#### we can create our own exceptions by defining a new class that inherits from the built-in Exception class. This is important because by inheriting from the Exception class, our custom exceptions will have all the basic features of standard exceptions, such as the ability to be raised and caught using raise and try/except."
   ]
  },
  {
   "cell_type": "markdown",
   "id": "e77651f3-a215-4e59-8560-2675f4392b58",
   "metadata": {},
   "source": [
    "#### For example, if we want to handle a specific type of error in a function, we can define a custom exception by creating a new class that inherits from Exception. This ensures that the custom exception can be raised and caught like any other exception, while also providing specialized behavior for our specific use case."
   ]
  },
  {
   "cell_type": "markdown",
   "id": "c98fbf25-fbed-4958-9959-a5e43b86d219",
   "metadata": {},
   "source": [
    "### Q.2> Write a python program to print Python Exception Hierarchy."
   ]
  },
  {
   "cell_type": "markdown",
   "id": "38715a14-f791-41db-ac36-e958ad49ee0d",
   "metadata": {},
   "source": [
    "#### ANSWER"
   ]
  },
  {
   "cell_type": "code",
   "execution_count": 1,
   "id": "03fa8b9c-07f7-4051-a9ee-97bfefbafa67",
   "metadata": {},
   "outputs": [
    {
     "name": "stdout",
     "output_type": "stream",
     "text": [
      "Hierarchy for Built-in exceptions is : \n",
      " BaseException\n",
      "--- Exception\n",
      "------ TypeError\n",
      "--------- FloatOperation\n",
      "--------- MultipartConversionError\n",
      "------ StopAsyncIteration\n",
      "------ StopIteration\n",
      "------ ImportError\n",
      "--------- ModuleNotFoundError\n",
      "--------- ZipImportError\n",
      "------ OSError\n",
      "--------- ConnectionError\n",
      "------------ BrokenPipeError\n",
      "------------ ConnectionAbortedError\n",
      "------------ ConnectionRefusedError\n",
      "------------ ConnectionResetError\n",
      "--------------- RemoteDisconnected\n",
      "--------- BlockingIOError\n",
      "--------- ChildProcessError\n",
      "--------- FileExistsError\n",
      "--------- FileNotFoundError\n",
      "--------- IsADirectoryError\n",
      "--------- NotADirectoryError\n",
      "--------- InterruptedError\n",
      "------------ InterruptedSystemCall\n",
      "--------- PermissionError\n",
      "--------- ProcessLookupError\n",
      "--------- TimeoutError\n",
      "--------- UnsupportedOperation\n",
      "--------- itimer_error\n",
      "--------- herror\n",
      "--------- gaierror\n",
      "--------- SSLError\n",
      "------------ SSLCertVerificationError\n",
      "------------ SSLZeroReturnError\n",
      "------------ SSLWantWriteError\n",
      "------------ SSLWantReadError\n",
      "------------ SSLSyscallError\n",
      "------------ SSLEOFError\n",
      "--------- Error\n",
      "------------ SameFileError\n",
      "--------- SpecialFileError\n",
      "--------- ExecError\n",
      "--------- ReadError\n",
      "--------- URLError\n",
      "------------ HTTPError\n",
      "------------ ContentTooShortError\n",
      "--------- BadGzipFile\n",
      "------ EOFError\n",
      "--------- IncompleteReadError\n",
      "------ RuntimeError\n",
      "--------- RecursionError\n",
      "--------- NotImplementedError\n",
      "------------ ZMQVersionError\n",
      "------------ StdinNotImplementedError\n",
      "--------- _DeadlockError\n",
      "--------- BrokenBarrierError\n",
      "--------- BrokenExecutor\n",
      "------------ BrokenThreadPool\n",
      "--------- SendfileNotAvailableError\n",
      "--------- ExtractionError\n",
      "--------- VariableError\n",
      "------ NameError\n",
      "--------- UnboundLocalError\n",
      "------ AttributeError\n",
      "--------- FrozenInstanceError\n",
      "------ SyntaxError\n",
      "--------- IndentationError\n",
      "------------ TabError\n",
      "------ LookupError\n",
      "--------- IndexError\n",
      "--------- KeyError\n",
      "------------ NoSuchKernel\n",
      "------------ UnknownBackend\n",
      "--------- CodecRegistryError\n",
      "------ ValueError\n",
      "--------- UnicodeError\n",
      "------------ UnicodeEncodeError\n",
      "------------ UnicodeDecodeError\n",
      "------------ UnicodeTranslateError\n",
      "--------- UnsupportedOperation\n",
      "--------- JSONDecodeError\n",
      "--------- SSLCertVerificationError\n",
      "--------- Error\n",
      "--------- UnsupportedDigestmodError\n",
      "--------- IllegalMonthError\n",
      "--------- IllegalWeekdayError\n",
      "--------- ParserError\n",
      "--------- ClassNotFound\n",
      "--------- ClipboardEmpty\n",
      "--------- MessageDefect\n",
      "------------ NoBoundaryInMultipartDefect\n",
      "------------ StartBoundaryNotFoundDefect\n",
      "------------ CloseBoundaryNotFoundDefect\n",
      "------------ FirstHeaderLineIsContinuationDefect\n",
      "------------ MisplacedEnvelopeHeaderDefect\n",
      "------------ MissingHeaderBodySeparatorDefect\n",
      "------------ MultipartInvariantViolationDefect\n",
      "------------ InvalidMultipartContentTransferEncodingDefect\n",
      "------------ UndecodableBytesDefect\n",
      "------------ InvalidBase64PaddingDefect\n",
      "------------ InvalidBase64CharactersDefect\n",
      "------------ InvalidBase64LengthDefect\n",
      "------------ HeaderDefect\n",
      "--------------- InvalidHeaderDefect\n",
      "--------------- HeaderMissingRequiredValue\n",
      "--------------- NonPrintableDefect\n",
      "--------------- ObsoleteHeaderDefect\n",
      "--------------- NonASCIILocalPartDefect\n",
      "--------------- InvalidDateDefect\n",
      "--------- MacroToEdit\n",
      "--------- InvalidFileException\n",
      "--------- UnequalIterablesError\n",
      "--------- InvalidVersion\n",
      "--------- _InvalidELFFileHeader\n",
      "--------- InvalidWheelFilename\n",
      "--------- InvalidSdistFilename\n",
      "--------- InvalidSpecifier\n",
      "--------- InvalidMarker\n",
      "--------- UndefinedComparison\n",
      "--------- UndefinedEnvironmentName\n",
      "--------- InvalidRequirement\n",
      "------------ RequirementParseError\n",
      "--------- InvalidVersion\n",
      "------ AssertionError\n",
      "------ ArithmeticError\n",
      "--------- FloatingPointError\n",
      "--------- OverflowError\n",
      "--------- ZeroDivisionError\n",
      "------------ DivisionByZero\n",
      "------------ DivisionUndefined\n",
      "--------- DecimalException\n",
      "------------ Clamped\n",
      "------------ Rounded\n",
      "--------------- Underflow\n",
      "--------------- Overflow\n",
      "------------ Inexact\n",
      "--------------- Underflow\n",
      "--------------- Overflow\n",
      "------------ Subnormal\n",
      "--------------- Underflow\n",
      "------------ DivisionByZero\n",
      "------------ FloatOperation\n",
      "------------ InvalidOperation\n",
      "--------------- ConversionSyntax\n",
      "--------------- DivisionImpossible\n",
      "--------------- DivisionUndefined\n",
      "--------------- InvalidContext\n",
      "------ SystemError\n",
      "--------- CodecRegistryError\n",
      "------ ReferenceError\n",
      "------ MemoryError\n",
      "------ BufferError\n",
      "------ Warning\n",
      "--------- UserWarning\n",
      "------------ GetPassWarning\n",
      "------------ FormatterWarning\n",
      "--------- EncodingWarning\n",
      "--------- DeprecationWarning\n",
      "------------ ProvisionalWarning\n",
      "--------- PendingDeprecationWarning\n",
      "--------- SyntaxWarning\n",
      "--------- RuntimeWarning\n",
      "------------ ProactorSelectorThreadWarning\n",
      "------------ UnknownTimezoneWarning\n",
      "------------ PEP440Warning\n",
      "--------- FutureWarning\n",
      "------------ ProvisionalCompleterWarning\n",
      "--------- ImportWarning\n",
      "--------- UnicodeWarning\n",
      "--------- BytesWarning\n",
      "--------- ResourceWarning\n",
      "--------- DeprecatedTzFormatWarning\n",
      "--------- PkgResourcesDeprecationWarning\n",
      "------ _OptionError\n",
      "------ _Error\n",
      "------ error\n",
      "------ Verbose\n",
      "------ Error\n",
      "------ SubprocessError\n",
      "--------- CalledProcessError\n",
      "--------- TimeoutExpired\n",
      "------ TokenError\n",
      "------ StopTokenizing\n",
      "------ ClassFoundException\n",
      "------ EndOfBlock\n",
      "------ TraitError\n",
      "------ Error\n",
      "------ Error\n",
      "--------- CancelledError\n",
      "--------- TimeoutError\n",
      "--------- InvalidStateError\n",
      "------ _GiveupOnSendfile\n",
      "------ error\n",
      "------ Incomplete\n",
      "------ TimeoutError\n",
      "------ InvalidStateError\n",
      "------ LimitOverrunError\n",
      "------ QueueEmpty\n",
      "------ QueueFull\n",
      "------ Empty\n",
      "------ Full\n",
      "------ ArgumentError\n",
      "------ ZMQBaseError\n",
      "--------- ZMQError\n",
      "------------ ContextTerminated\n",
      "------------ Again\n",
      "------------ InterruptedSystemCall\n",
      "--------- ZMQBindError\n",
      "--------- NotDone\n",
      "------ PickleError\n",
      "--------- PicklingError\n",
      "--------- UnpicklingError\n",
      "------ _Stop\n",
      "------ ArgumentError\n",
      "------ ArgumentTypeError\n",
      "------ ConfigError\n",
      "--------- ConfigLoaderError\n",
      "------------ ArgumentError\n",
      "--------- ConfigFileNotFound\n",
      "------ ConfigurableError\n",
      "--------- MultipleInstanceError\n",
      "------ ApplicationError\n",
      "------ error\n",
      "------ TimeoutError\n",
      "------ error\n",
      "------ ReturnValueIgnoredError\n",
      "------ KeyReuseError\n",
      "------ UnknownKeyError\n",
      "------ LeakedCallbackError\n",
      "------ BadYieldError\n",
      "------ ReturnValueIgnoredError\n",
      "------ Return\n",
      "------ InvalidPortNumber\n",
      "------ error\n",
      "------ LZMAError\n",
      "------ RegistryError\n",
      "------ _GiveupOnFastCopy\n",
      "------ Error\n",
      "--------- NoSectionError\n",
      "--------- DuplicateSectionError\n",
      "--------- DuplicateOptionError\n",
      "--------- NoOptionError\n",
      "--------- InterpolationError\n",
      "------------ InterpolationMissingOptionError\n",
      "------------ InterpolationSyntaxError\n",
      "------------ InterpolationDepthError\n",
      "--------- ParsingError\n",
      "------------ MissingSectionHeaderError\n",
      "------ NoIPAddresses\n",
      "------ BadZipFile\n",
      "------ LargeZipFile\n",
      "------ BadEntryPoint\n",
      "------ NoSuchEntryPoint\n",
      "------ DuplicateKernelError\n",
      "------ ErrorDuringImport\n",
      "------ NotOneValueFound\n",
      "------ CannotEval\n",
      "------ OptionError\n",
      "------ BdbQuit\n",
      "------ Restart\n",
      "------ ExceptionPexpect\n",
      "--------- EOF\n",
      "--------- TIMEOUT\n",
      "------ PtyProcessError\n",
      "------ FindCmdError\n",
      "------ HomeDirError\n",
      "------ ProfileDirError\n",
      "------ IPythonCoreError\n",
      "--------- TryNext\n",
      "--------- UsageError\n",
      "--------- StdinNotImplementedError\n",
      "------ InputRejected\n",
      "------ GetoptError\n",
      "------ ErrorToken\n",
      "------ PrefilterError\n",
      "------ AliasError\n",
      "--------- InvalidAliasError\n",
      "------ Error\n",
      "--------- InterfaceError\n",
      "--------- DatabaseError\n",
      "------------ InternalError\n",
      "------------ OperationalError\n",
      "------------ ProgrammingError\n",
      "------------ IntegrityError\n",
      "------------ DataError\n",
      "------------ NotSupportedError\n",
      "------ Warning\n",
      "------ SpaceInInput\n",
      "------ DOMException\n",
      "--------- IndexSizeErr\n",
      "--------- DomstringSizeErr\n",
      "--------- HierarchyRequestErr\n",
      "--------- WrongDocumentErr\n",
      "--------- InvalidCharacterErr\n",
      "--------- NoDataAllowedErr\n",
      "--------- NoModificationAllowedErr\n",
      "--------- NotFoundErr\n",
      "--------- NotSupportedErr\n",
      "--------- InuseAttributeErr\n",
      "--------- InvalidStateErr\n",
      "--------- SyntaxErr\n",
      "--------- InvalidModificationErr\n",
      "--------- NamespaceErr\n",
      "--------- InvalidAccessErr\n",
      "--------- ValidationErr\n",
      "------ ValidationError\n",
      "------ EditReadOnlyBuffer\n",
      "------ _Retry\n",
      "------ InvalidLayoutError\n",
      "------ HeightIsUnknownError\n",
      "------ ParserSyntaxError\n",
      "------ InternalParseError\n",
      "------ _PositionUpdatingFinished\n",
      "------ SimpleGetItemNotFound\n",
      "------ UncaughtAttributeError\n",
      "------ HasNoContext\n",
      "------ ParamIssue\n",
      "------ _JediError\n",
      "--------- InternalError\n",
      "--------- WrongVersion\n",
      "--------- RefactoringError\n",
      "------ OnErrorLeaf\n",
      "------ InvalidPythonEnvironment\n",
      "------ MessageError\n",
      "--------- MessageParseError\n",
      "------------ HeaderParseError\n",
      "------------ BoundaryError\n",
      "--------- MultipartConversionError\n",
      "--------- CharsetError\n",
      "------ Error\n",
      "------ HTTPException\n",
      "--------- NotConnected\n",
      "--------- InvalidURL\n",
      "--------- UnknownProtocol\n",
      "--------- UnknownTransferEncoding\n",
      "--------- UnimplementedFileMode\n",
      "--------- IncompleteRead\n",
      "--------- ImproperConnectionState\n",
      "------------ CannotSendRequest\n",
      "------------ CannotSendHeader\n",
      "------------ ResponseNotReady\n",
      "--------- BadStatusLine\n",
      "------------ RemoteDisconnected\n",
      "--------- LineTooLong\n",
      "------ InteractivelyDefined\n",
      "------ KillEmbedded\n",
      "------ Error\n",
      "--------- NoSuchProcess\n",
      "------------ ZombieProcess\n",
      "--------- AccessDenied\n",
      "--------- TimeoutExpired\n",
      "------ _Ipv6UnsupportedError\n",
      "------ QueueEmpty\n",
      "------ QueueFull\n",
      "------ DebuggerInitializationError\n",
      "------ ExpatError\n",
      "------ Error\n",
      "--------- ProtocolError\n",
      "--------- ResponseError\n",
      "--------- Fault\n",
      "------ ParseBaseException\n",
      "--------- ParseException\n",
      "--------- ParseFatalException\n",
      "------------ ParseSyntaxException\n",
      "------ RecursiveGrammarException\n",
      "------ ResolutionError\n",
      "--------- VersionConflict\n",
      "------------ ContextualVersionConflict\n",
      "--------- DistributionNotFound\n",
      "--------- UnknownExtra\n",
      "------ _Error\n",
      "------ UnableToResolveVariableException\n",
      "------ InvalidTypeInArgsException\n",
      "--- GeneratorExit\n",
      "--- SystemExit\n",
      "--- KeyboardInterrupt\n",
      "--- CancelledError\n",
      "--- AbortThread\n"
     ]
    }
   ],
   "source": [
    "import inspect\n",
    "\n",
    "def treeClass(cls, ind = 0):\n",
    "\n",
    "\tprint ('-' * ind, cls.__name__)\n",
    "\t\n",
    "\tfor i in cls.__subclasses__():\n",
    "\t\ttreeClass(i, ind + 3)\n",
    "\n",
    "print(\"Hierarchy for Built-in exceptions is : \")\n",
    "\n",
    "inspect.getclasstree(inspect.getmro(BaseException))\n",
    "\n",
    "\n",
    "treeClass(BaseException)\n"
   ]
  },
  {
   "cell_type": "markdown",
   "id": "9172ca24-7c85-4447-87a8-6ce8ce800b5b",
   "metadata": {},
   "source": [
    "### Q.3> What errors are defined in the ArithmeticError class? Explain any two with an example."
   ]
  },
  {
   "cell_type": "markdown",
   "id": "2bb4084d-9f33-4da4-a55a-b879d323c1fb",
   "metadata": {},
   "source": [
    "#### ANSWER"
   ]
  },
  {
   "cell_type": "markdown",
   "id": "c5b45e55-2461-4385-945d-8b3187f2d32f",
   "metadata": {},
   "source": [
    "#### The ArithmeticError class in Python is a built-in exception class that is raised when arithmetic errors occur during the execution of a program. This class is the base class for all exceptions that are related to arithmetic operations."
   ]
  },
  {
   "cell_type": "markdown",
   "id": "f8cb6217-07fc-49f4-810d-4337b44cb967",
   "metadata": {},
   "source": [
    "#### ZeroDivisionError: division by zero"
   ]
  },
  {
   "cell_type": "code",
   "execution_count": null,
   "id": "fa9d5e6a-581b-4760-9660-4a9c68578557",
   "metadata": {},
   "outputs": [],
   "source": [
    "x = 5\n",
    "y = 0\n",
    "z = x / y  \n"
   ]
  },
  {
   "cell_type": "markdown",
   "id": "59d56789-cbff-441e-aec8-044f54cfe181",
   "metadata": {},
   "source": [
    "#### ValueError: math domain error"
   ]
  },
  {
   "cell_type": "code",
   "execution_count": null,
   "id": "50286bc4-16f3-46fc-bae2-3e56a04e89fa",
   "metadata": {},
   "outputs": [],
   "source": [
    "import math\n",
    "\n",
    "x = -1\n",
    "z = math.sqrt(x)  \n"
   ]
  },
  {
   "cell_type": "markdown",
   "id": "0217bbd7-2e83-48cd-a763-d68315820862",
   "metadata": {},
   "source": [
    "### Q.4> Why LookupError class is used? Explain with an example KeyError and IndexError."
   ]
  },
  {
   "cell_type": "markdown",
   "id": "eccb2d91-28ff-4384-a82a-7efe799bd5d6",
   "metadata": {},
   "source": [
    "#### ANSWER"
   ]
  },
  {
   "cell_type": "markdown",
   "id": "bb83c3ab-212c-4b5a-a42c-7721e6e64aa1",
   "metadata": {},
   "source": [
    "#### The LookupError class in Python is a built-in exception class that serves as the base class for all exceptions that are related to lookup errors. Lookup errors occur when an attempt is made to access an invalid index or key in a sequence or mapping object."
   ]
  },
  {
   "cell_type": "markdown",
   "id": "8a0aa29c-467b-4642-acfa-2367015c6a0e",
   "metadata": {},
   "source": [
    "#### KeyError"
   ]
  },
  {
   "cell_type": "code",
   "execution_count": null,
   "id": "5e4c9a25-3121-40eb-a04d-aaccbdb3f4c2",
   "metadata": {},
   "outputs": [],
   "source": [
    "my_dict = {'a': 1, 'b': 2, 'c': 3}\n",
    "value = my_dict['d']  \n"
   ]
  },
  {
   "cell_type": "markdown",
   "id": "638e5984-349c-4b83-b0ff-3cb027e11c93",
   "metadata": {},
   "source": [
    "#### IndexError: list index out of range"
   ]
  },
  {
   "cell_type": "code",
   "execution_count": null,
   "id": "844b895a-3a44-421e-8b47-e9214b116d4c",
   "metadata": {},
   "outputs": [],
   "source": [
    "my_list = [1, 2, 3]\n",
    "value = my_list[3]  \n"
   ]
  },
  {
   "cell_type": "markdown",
   "id": "18dc41f6-9259-47a6-9cab-db78b67ce824",
   "metadata": {},
   "source": [
    "### Q.5> Explain ImportError. What is ModuleNotFoundError?"
   ]
  },
  {
   "cell_type": "markdown",
   "id": "26d8b7ff-d5f8-4711-a96d-030060bc42f7",
   "metadata": {},
   "source": [
    "#### ImportError is a built-in exception class in Python that is raised when a module, package, or object cannot be imported. This exception occurs when the interpreter cannot find the specified module, or when there is an error in the module's code that prevents it from being imported."
   ]
  },
  {
   "cell_type": "markdown",
   "id": "de2986ca-03e1-415d-a278-3a5b0650e558",
   "metadata": {},
   "source": [
    "#### The module or package is not installed: If a module or package is not installed on the system, it cannot be imported by Python. This can occur if the module was not included in the Python distribution, or if it was installed in a non-standard location."
   ]
  },
  {
   "cell_type": "markdown",
   "id": "332bfe54-e51d-4a87-bbd2-3ee69ed6bec8",
   "metadata": {},
   "source": [
    "#### The module or package cannot be found: Even if a module or package is installed, Python may not be able to find it if it is located in a non-standard location or if the PYTHONPATH environment variable is not set correctly."
   ]
  },
  {
   "cell_type": "markdown",
   "id": "c171691d-88cd-4d20-9541-bb4ab935be59",
   "metadata": {},
   "source": [
    "#### There is an error in the module's code: If there is an error in the code of the module being imported, such as a syntax error or a missing dependency, Python will raise an ImportError."
   ]
  },
  {
   "cell_type": "markdown",
   "id": "ac2f4dd3-b297-46e0-885d-53519619ee8d",
   "metadata": {},
   "source": [
    "#### ModuleNotFoundError is a subclass of the ImportError exception and is raised when a module is not found during an import statement. "
   ]
  },
  {
   "cell_type": "code",
   "execution_count": 1,
   "id": "493a8bf1-2f9f-40e3-8eb9-8a0258f9736c",
   "metadata": {},
   "outputs": [
    {
     "ename": "ModuleNotFoundError",
     "evalue": "No module named 'my_module'",
     "output_type": "error",
     "traceback": [
      "\u001b[0;31m---------------------------------------------------------------------------\u001b[0m",
      "\u001b[0;31mModuleNotFoundError\u001b[0m                       Traceback (most recent call last)",
      "Cell \u001b[0;32mIn[1], line 1\u001b[0m\n\u001b[0;32m----> 1\u001b[0m \u001b[38;5;28;01mimport\u001b[39;00m \u001b[38;5;21;01mmy_module\u001b[39;00m\n",
      "\u001b[0;31mModuleNotFoundError\u001b[0m: No module named 'my_module'"
     ]
    }
   ],
   "source": [
    "import my_module\n"
   ]
  },
  {
   "cell_type": "markdown",
   "id": "4a220192-6b04-4998-9088-9fa4b1511bbe",
   "metadata": {},
   "source": [
    "#### Q.6> List down some best practices for exception handling in python."
   ]
  },
  {
   "cell_type": "markdown",
   "id": "596aab45-77d2-4c5f-9768-920d02c66090",
   "metadata": {},
   "source": [
    "#### ANSWER"
   ]
  },
  {
   "cell_type": "markdown",
   "id": "297ae9ea-7d4a-4cce-bdfe-0ec732bf640f",
   "metadata": {},
   "source": [
    "#### Use specific exception types: Always use specific exception types that accurately describe the error that occurred. This helps to ensure that the code is easy to read and maintain, and makes it easier to debug errors that occur.\n",
    "\n",
    "#### Use logging to track exceptions: Use Python's built-in logging module to log exceptions and other errors. This helps to provide a record of what went wrong and makes it easier to debug issues.\n",
    "\n",
    "#### Document exceptions: Document the exceptions that may be raised by a function or module, along with any conditions that may cause them to be raised. This helps to ensure that the code is easy to read and maintain, and makes it easier to debug issues.\n",
    "\n",
    "#### cleanup all the resources\n",
    "\n",
    "#### Always avoid to write a multiple exception hand"
   ]
  }
 ],
 "metadata": {
  "kernelspec": {
   "display_name": "Python 3 (ipykernel)",
   "language": "python",
   "name": "python3"
  },
  "language_info": {
   "codemirror_mode": {
    "name": "ipython",
    "version": 3
   },
   "file_extension": ".py",
   "mimetype": "text/x-python",
   "name": "python",
   "nbconvert_exporter": "python",
   "pygments_lexer": "ipython3",
   "version": "3.10.8"
  }
 },
 "nbformat": 4,
 "nbformat_minor": 5
}
